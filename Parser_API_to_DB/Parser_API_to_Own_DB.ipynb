{
 "cells": [
  {
   "cell_type": "code",
   "execution_count": 1,
   "id": "89378452",
   "metadata": {},
   "outputs": [],
   "source": [
    "import requests\n",
    "import psycopg2\n",
    "import json\n",
    "from datetime import datetime, timedelta\n",
    "import logging\n",
    "import traceback\n",
    "import os\n",
    "import glob\n",
    "import gspread"
   ]
  },
  {
   "cell_type": "code",
   "execution_count": 2,
   "id": "026383e0",
   "metadata": {},
   "outputs": [],
   "source": [
    "# Задаю параметры подключения к БД\n",
    "DB_PARAMS = {\n",
    "    'host': 'localhost',\n",
    "    'port': 5430,\n",
    "    'database': \"skillfactory\",\n",
    "    'user': \"parser\",\n",
    "    'password': \"grader_parser_531\"\n",
    "}"
   ]
  },
  {
   "cell_type": "code",
   "execution_count": 3,
   "id": "f1da9987",
   "metadata": {},
   "outputs": [],
   "source": [
    "# Задаю параметры для подключения через API\n",
    "api_url = \"https://b2b.itresume.ru/api/statistics\"\n",
    "paydate = {\n",
    " 'client':  'Skillfactory',\n",
    " 'client_key': 'M2MGWS',\n",
    " 'start': '2023-04-01 01:01:01.000000',\n",
    " 'end': '2023-04-01 23:59:59.999999'\n",
    "}"
   ]
  },
  {
   "cell_type": "code",
   "execution_count": 4,
   "id": "e7c8a270",
   "metadata": {},
   "outputs": [],
   "source": [
    "# Создаю класс-коннектор к БД в шаблоне SingleTon, который обеспечивает единственное подключение\n",
    "class DatabaseConnection:\n",
    "    def __new__(cls, *args, **kwargs):\n",
    "        if not hasattr(cls, 'instance'):\n",
    "            cls.instance = super().__new__(cls)\n",
    "        return cls.instance\n",
    "    \n",
    "    def __init__(self, params, autocommit = True):\n",
    "        self.conn = psycopg2.connect(\n",
    "            host = params['host'],\n",
    "            port = params['port'],\n",
    "            database = params['database'],\n",
    "            user = params['user'],\n",
    "            password = params['password']\n",
    "        )\n",
    "        self.conn.autocommit = autocommit\n",
    "        \n",
    "    def get_cursor(self):\n",
    "        return self.conn.cursor()\n",
    "    \n",
    "    def close_connect(self):\n",
    "        self.conn.close()\n",
    "        \n",
    "    def rollback(self):\n",
    "        self.conn.rollback()\n",
    "        "
   ]
  },
  {
   "cell_type": "code",
   "execution_count": 5,
   "id": "d9f0085b",
   "metadata": {},
   "outputs": [],
   "source": [
    "# Указываю путь, куда будут записываться логи, и количество дней, которые будут логироваться\n",
    "PATH = 'E:\\directoriya_Postgre\\logs'\n",
    "days_recorded = 3"
   ]
  },
  {
   "cell_type": "code",
   "execution_count": 6,
   "id": "4dda862e",
   "metadata": {},
   "outputs": [],
   "source": [
    "# Пишу запрос к БД, который будет заполнять таблицу grader\n",
    "query = \"\"\"\n",
    "insert into grader (user_id, oauth_consumer_key, lis_result_sourcedid, \n",
    "lis_outcome_service_url, is_correct, attempt_type, created_at) \n",
    "values (%s, %s, %s, %s, %s, %s, pg_catalog.to_timestamp(%s, 'YYYY-MM-DD HH24:MI:SS.US'))\n",
    "\"\"\""
   ]
  },
  {
   "cell_type": "code",
   "execution_count": 7,
   "id": "d1a602d2",
   "metadata": {},
   "outputs": [],
   "source": [
    "# Здесь указываю необходимые значения, чтобы гарантированно записывать эти данные (даже если они None) в БД\n",
    "needing_values = {\n",
    "    'lti_user_id':None,\n",
    "    'is_correct':None,\n",
    "    'attempt_type': None,\n",
    "    'created_at': None,\n",
    "    'oauth_consumer_key': None,\n",
    "    'lis_result_sourcedid': None,\n",
    "    'lis_outcome_service_url': None\n",
    "}"
   ]
  },
  {
   "cell_type": "code",
   "execution_count": 12,
   "id": "145ca0a5",
   "metadata": {},
   "outputs": [],
   "source": [
    "class DataCarrier:\n",
    "    def __init__(self, **kwargs):\n",
    "        self.logger_path = kwargs.get('path', None)\n",
    "        self.logs_cnt = kwargs.get('logs_cnt', 3)\n",
    "        self.api_url = kwargs.get('api_url', None)\n",
    "        self.paydate = kwargs.get('paydate', None)\n",
    "        self.database_params = kwargs.get('params', None)\n",
    "        self.autocommit = kwargs.get('autocommit', True)\n",
    "        self.query = kwargs.get('query', None)\n",
    "        self.needing_values = kwargs.get('needing_values', None)\n",
    "        \n",
    "    def set_logger_settings(self, logger_path, logs_cnt = 3):\n",
    "        self.logger_path = logger_path\n",
    "        self.logs_cnt = logs_cnt\n",
    "        \n",
    "    def set_API_settings(self, api_url, paydate):\n",
    "        self.api_url = api_url\n",
    "        self.paydate = paydate\n",
    "    \n",
    "    def set_DB_settings(self, database_params):\n",
    "        self.database_params = database_params\n",
    "        \n",
    "    def set_query_setting(self, query, needing_values = None):\n",
    "        self.query = query\n",
    "        self.needing_values = needing_values\n",
    "        \n",
    "    def check_required_params(self):\n",
    "        return all([self.logger_path, \n",
    "                   self.logs_cnt, \n",
    "                   self.api_url, \n",
    "                   self.paydate, \n",
    "                   self.database_params,\n",
    "                   self.query, \n",
    "                   self.needing_values])\n",
    "    \n",
    "    def create_logger(self):\n",
    "        try:\n",
    "            logging.basicConfig(\n",
    "                format='%(asctime)s %(name)s %(levelname)s: %(message)s',\n",
    "                filename=f\"{self.logger_path}\\\\{datetime.now().date()}.txt\",filemode=\"w\",\n",
    "                level=logging.INFO)\n",
    "            return True\n",
    "        except Exception as err:\n",
    "            print('Не удалось создать файл для логирования')\n",
    "            return False\n",
    "        \n",
    "    def delete_old_logs(self):\n",
    "        logging.info(f'Удаление старых логов из файла {self.logger_path}')\n",
    "        last_filedates = [str(datetime.now().date() - timedelta(days = x))+'.txt' for x in range(0, self.logs_cnt)]\n",
    "        fileList = glob.glob(self.logger_path+f'\\*.txt')\n",
    "        fileList = [path for path in fileList if path.split('\\\\')[-1] not in last_filedates]\n",
    "        for filePath in fileList:\n",
    "            try:\n",
    "                logging.info('Файл {} успешно удалён'.format(filePath.split(\"\\\\\")[-1]))\n",
    "                os.remove(filePath)\n",
    "            except Exception as err:\n",
    "                logging.error('Ошибка {} при попытке удалить файл {}'.format(err, filePath.split(\"\\\\\")[-1]))\n",
    "                \n",
    "    def close_logger(self):\n",
    "        loggers = [logging.getLogger()]\n",
    "        for logger in loggers:\n",
    "            handlers = logger.handlers[:]  # Копируем список обработчиков\n",
    "            for handler in handlers:\n",
    "                handler.close()  # Закрываем обработчик\n",
    "                logger.removeHandler(handler)\n",
    "    \n",
    "    def get_data_from_API(self):\n",
    "        logging.info('Начато получение данных с API')\n",
    "        r = requests.get(self.api_url, params = self.paydate)\n",
    "        try:\n",
    "            logging.info(f'Скачивание данных с API прошло успешно, status_code: {r.status_code}')\n",
    "            self.received_API_data = r.json()\n",
    "            return True\n",
    "        except Exception as err:\n",
    "            logging.error(f'Произошла ошибка {err}, status_code: {r.status_code}')\n",
    "            return False\n",
    "            \n",
    "    def connect_to_DB(self):\n",
    "        logging.info('Попытка соединения с базой данных')\n",
    "        try:\n",
    "            self.DB_connect = DatabaseConnection(self.database_params, self.autocommit)\n",
    "            logging.info('Соединение прошло успешно')\n",
    "            return True\n",
    "        except Exception as err:\n",
    "            logging.error(f'Соединение не выполнено. Ошибка {err}')\n",
    "            return False\n",
    "    \n",
    "    def DB_connect_getter(self):\n",
    "        if hasattr(self, 'DB_connect'):\n",
    "            return self.DB_connect\n",
    "        else:\n",
    "            raise Exception('Атрибут DB_connect еще не задан')\n",
    "            \n",
    "    def put_data_to_DB(self):\n",
    "        logging.info('Начало загрузки данных с API в Базу')\n",
    "        with self.DB_connect.get_cursor() as cur:\n",
    "            try:\n",
    "                for row in self.received_API_data:\n",
    "                    try:\n",
    "                        if self.needing_values:\n",
    "                            values = self.needing_values\n",
    "                            values.update(row)\n",
    "                        else:\n",
    "                            values = row.copy()\n",
    "                        passback_params = values.pop('passback_params')\n",
    "                        values.update(json.loads(passback_params.replace(\"\\'\", \"\\\"\")))\n",
    "                        cur.execute(self.query, (values['lti_user_id'], values['oauth_consumer_key'], \n",
    "                                        values['lis_result_sourcedid'], values['lis_outcome_service_url'],\n",
    "                                        values['is_correct'], values['attempt_type'], values['created_at']))\n",
    "                    except Exception as err:\n",
    "                        logging.error(f'Ошибка {err} при попытке занести в базу строку {row}')\n",
    "                        continue\n",
    "                logging.info('Все данные успешно занесены в таблицу')\n",
    "                return True\n",
    "            except Exception as err:\n",
    "                logging.error(f'Произошла ошибка {err}')\n",
    "                return False\n",
    "                \n",
    "    def process(self, close_DB_connect = True):\n",
    "        if not self.check_required_params():\n",
    "            raise Exception('Необходимые параметры не заданы')\n",
    "            \n",
    "        if not self.create_logger():\n",
    "            raise Exception('Ошибка при создании файла для логирования')\n",
    "            \n",
    "        self.delete_old_logs()\n",
    "        \n",
    "        if not self.get_data_from_API():\n",
    "            raise Exception('Ошибка при взаимодействии с API')\n",
    "            \n",
    "        if not self.connect_to_DB():\n",
    "            raise Exception('Ошибка при подключении к Базе Данных')\n",
    "            \n",
    "        if not self.put_data_to_DB():\n",
    "            raise Exception('Ошибка при взаимодействии с Базой Данных')\n",
    "        \n",
    "        if close_DB_connect:\n",
    "            self.DB_connect_getter().close_connect()\n",
    "            logging.info('Автоматическое закрытие соединения с БД')\n",
    "        self.close_logger()\n",
    "        \n",
    "        "
   ]
  },
  {
   "cell_type": "code",
   "execution_count": 13,
   "id": "db4b8721",
   "metadata": {},
   "outputs": [],
   "source": [
    "connector = DataCarrier(path = PATH, \n",
    "                        api_url = api_url, \n",
    "                        paydate = paydate, \n",
    "                        params = DB_PARAMS, \n",
    "                        query = query, \n",
    "                        needing_values = needing_values)"
   ]
  },
  {
   "cell_type": "code",
   "execution_count": 14,
   "id": "031a2e95",
   "metadata": {},
   "outputs": [],
   "source": [
    "connector.set_logger_settings(PATH)"
   ]
  },
  {
   "cell_type": "code",
   "execution_count": 15,
   "id": "ceaec415",
   "metadata": {},
   "outputs": [],
   "source": [
    "connector.process()"
   ]
  },
  {
   "cell_type": "markdown",
   "id": "9a3b8cb1",
   "metadata": {},
   "source": [
    "# Часть вторая - агрегация данных в Google Sheets"
   ]
  },
  {
   "cell_type": "code",
   "execution_count": 43,
   "id": "434b0b3f",
   "metadata": {},
   "outputs": [],
   "source": [
    "CREDENTIAL_PATH = 'E:\\directoriya_Postgre\\creds_it-resume-project.json'\n",
    "TABLE_NAME = \"IT_Resume_aggregate_datas\""
   ]
  },
  {
   "cell_type": "code",
   "execution_count": 44,
   "id": "ae4f2457",
   "metadata": {},
   "outputs": [],
   "source": [
    "template = {\n",
    "    'Дата': '''select now()::date''',\n",
    "    'Совершенных попыток': '''\n",
    "        select count(*)\n",
    "        from grader\n",
    "        where attempt_type = 'submit'\n",
    "        ''',\n",
    "    'Успешных попыток': '''\n",
    "        select count(*)\n",
    "        from grader\n",
    "        where attempt_type = 'submit'\n",
    "        and is_correct = 1\n",
    "        ''',\n",
    "    'Уникальных пользователей': '''\n",
    "        select count(distinct user_id)\n",
    "        from grader\n",
    "        '''\n",
    "}"
   ]
  },
  {
   "cell_type": "code",
   "execution_count": 45,
   "id": "1ecf7106",
   "metadata": {},
   "outputs": [],
   "source": [
    "class GoogleSheetsAPI:\n",
    "    def __init__(self,  credential_path):\n",
    "        self.account = gspread.service_account(filename = credential_path)\n",
    "    \n",
    "    def open_table(self, table_name):\n",
    "        self.cur_table = self.account.open(table_name)\n",
    "    \n",
    "    def open_sheet(self, sheet = 0):\n",
    "        self.wks = self.cur_table.get_worksheet(sheet)\n",
    "        \n",
    "    def get_sheet(self):\n",
    "        return self.wks\n",
    "    \n",
    "    def fast_create_sheet(self, table_name, sheet = 0):\n",
    "        self.open_table(table_name)\n",
    "        self.open_sheet(sheet)\n",
    "        return self.get_sheet()\n",
    "    \n",
    "    def connect_to_DataBase(self, database_params):\n",
    "        self.connector = DatabaseConnection(database_params) \n",
    "    \n",
    "    def set_template(self, template):\n",
    "        self.template = template\n",
    "    \n",
    "    def write_to_sheet(self):\n",
    "        self.wks.format('A:A', {'textFormat': {'bold': True}})\n",
    "        with self.connector.get_cursor() as cur:\n",
    "            for key in self.template.keys():\n",
    "                query = template[key]\n",
    "                cur.execute(query)\n",
    "                self.wks.append_row([key, str(cur.fetchone()[0])])\n",
    "        self.wks.columns_auto_resize(0, len(self.wks.col_values(1))+1)\n",
    "    \n",
    "    "
   ]
  },
  {
   "cell_type": "code",
   "execution_count": 46,
   "id": "00566a8e",
   "metadata": {},
   "outputs": [
    {
     "data": {
      "text/plain": [
       "<Worksheet 'Лист1' id:0>"
      ]
     },
     "execution_count": 46,
     "metadata": {},
     "output_type": "execute_result"
    }
   ],
   "source": [
    "my_sheet = GoogleSheetsAPI(CREDENTIAL_PATH)\n",
    "my_sheet.fast_create_sheet(TABLE_NAME)"
   ]
  },
  {
   "cell_type": "code",
   "execution_count": 47,
   "id": "38487b25",
   "metadata": {},
   "outputs": [],
   "source": [
    "my_sheet.connect_to_DataBase(DB_PARAMS)\n",
    "my_sheet.set_template(template)"
   ]
  },
  {
   "cell_type": "code",
   "execution_count": 48,
   "id": "3db247e1",
   "metadata": {},
   "outputs": [],
   "source": [
    "my_sheet.write_to_sheet()"
   ]
  },
  {
   "cell_type": "markdown",
   "id": "f9837a98",
   "metadata": {},
   "source": [
    "# Часть третья - отправка данных по почте"
   ]
  },
  {
   "cell_type": "code",
   "execution_count": 16,
   "id": "a3edaea9",
   "metadata": {},
   "outputs": [],
   "source": [
    "import smtplib\n",
    "import ssl\n",
    "from email.message import EmailMessage"
   ]
  },
  {
   "cell_type": "code",
   "execution_count": 49,
   "id": "c5f0722b",
   "metadata": {},
   "outputs": [],
   "source": [
    "context = ssl.create_default_context()"
   ]
  },
  {
   "cell_type": "code",
   "execution_count": 51,
   "id": "8e9c9c5b",
   "metadata": {},
   "outputs": [],
   "source": [
    "subject = \"Отчет по skillfactory\"\n",
    "message = f'''Новый отчет по данным от Skillfactory загружен в GoogleSheets \n",
    "https://docs.google.com/spreadsheets/d/1l5eeU-IxGX0bUkCCZIswszLqTO9KbdZVNuLWUFxt_yc/edit?gid=0#gid=0'''\n",
    "EMAIL_ADDRESS = 'egorhohlov999@mail.ru'\n",
    "EMAIL_PASSWORD = 'r7gX8piDUzngdVxNijh5'"
   ]
  },
  {
   "cell_type": "code",
   "execution_count": 52,
   "id": "e67aa237",
   "metadata": {},
   "outputs": [],
   "source": [
    "msg = EmailMessage()\n",
    "msg.set_content(message)\n",
    "msg['Subject'] = subject\n",
    "msg['From'] = EMAIL_ADDRESS\n",
    "msg['To'] = EMAIL_ADDRESS"
   ]
  },
  {
   "cell_type": "code",
   "execution_count": 53,
   "id": "d42465c5",
   "metadata": {},
   "outputs": [],
   "source": [
    "server = smtplib.SMTP_SSL('smtp.mail.ru', 465)"
   ]
  },
  {
   "cell_type": "code",
   "execution_count": 54,
   "id": "f678b521",
   "metadata": {},
   "outputs": [
    {
     "data": {
      "text/plain": [
       "(235, b'Authentication succeeded')"
      ]
     },
     "execution_count": 54,
     "metadata": {},
     "output_type": "execute_result"
    }
   ],
   "source": [
    "server.login(EMAIL_ADDRESS, EMAIL_PASSWORD)"
   ]
  },
  {
   "cell_type": "code",
   "execution_count": 55,
   "id": "d7fdf8f6",
   "metadata": {},
   "outputs": [
    {
     "data": {
      "text/plain": [
       "{}"
      ]
     },
     "execution_count": 55,
     "metadata": {},
     "output_type": "execute_result"
    }
   ],
   "source": [
    "server.send_message(msg=msg)"
   ]
  },
  {
   "cell_type": "code",
   "execution_count": null,
   "id": "7173e7b0",
   "metadata": {},
   "outputs": [],
   "source": []
  }
 ],
 "metadata": {
  "kernelspec": {
   "display_name": "Python 3 (ipykernel)",
   "language": "python",
   "name": "python3"
  },
  "language_info": {
   "codemirror_mode": {
    "name": "ipython",
    "version": 3
   },
   "file_extension": ".py",
   "mimetype": "text/x-python",
   "name": "python",
   "nbconvert_exporter": "python",
   "pygments_lexer": "ipython3",
   "version": "3.10.9"
  }
 },
 "nbformat": 4,
 "nbformat_minor": 5
}
