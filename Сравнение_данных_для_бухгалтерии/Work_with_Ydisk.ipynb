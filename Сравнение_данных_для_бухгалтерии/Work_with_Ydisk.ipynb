{
 "cells": [
  {
   "cell_type": "code",
   "execution_count": 1,
   "metadata": {},
   "outputs": [],
   "source": [
    "from datetime import datetime, date\n",
    "import os\n",
    "import pandas as pd\n",
    "import numpy as np\n",
    "import requests\n",
    "from urllib.parse import urlencode, quote\n",
    "import json"
   ]
  },
  {
   "cell_type": "code",
   "execution_count": 2,
   "metadata": {},
   "outputs": [],
   "source": [
    "download_url = 'https://cloud-api.yandex.net/v1/disk/public/resources/download?' # по этому адресу будет качать\n",
    "get_url = 'https://cloud-api.yandex.net/v1/disk/public/resources?' # а с этого получать имена файлов\n",
    "folder_url = 'https://disk.yandex.ru/d/xKJ4KlXJIJEULw'\n",
    "#url = base_url + urlencode(dict(public_key=folder_url, path=file_url), safe = '/', quote_via=quote)\n",
    "url_get = get_url + urlencode(dict(public_key=folder_url)) "
   ]
  },
  {
   "cell_type": "code",
   "execution_count": 3,
   "metadata": {},
   "outputs": [
    {
     "name": "stdout",
     "output_type": "stream",
     "text": [
      "<Response [200]>\n"
     ]
    }
   ],
   "source": [
    "r_get = requests.get(url_get)  # получаем соединение. У него есть параметр text, с помощью него будем получать имена файлов\n",
    "print(r_get)\n",
    "#print(r_get.text)"
   ]
  },
  {
   "cell_type": "code",
   "execution_count": 4,
   "metadata": {},
   "outputs": [],
   "source": [
    "#json.loads(r_get.text)  # вот словарь, полученный с json. Нам нужен ключ _embedded, и в нем - ключ items"
   ]
  },
  {
   "cell_type": "code",
   "execution_count": 5,
   "metadata": {},
   "outputs": [],
   "source": [
    "files = json.loads(r_get.text)['_embedded']['items']\n",
    "#files  ## и здесь можно брать ключ name, в котором имя файла"
   ]
  },
  {
   "cell_type": "code",
   "execution_count": 6,
   "metadata": {},
   "outputs": [],
   "source": [
    "Cbis_df = None"
   ]
  },
  {
   "cell_type": "code",
   "execution_count": 7,
   "metadata": {},
   "outputs": [],
   "source": [
    "for file in files:\n",
    "    if file['name'].endswith('.csv'):\n",
    "        file_url = file['path']\n",
    "        params = {\n",
    "            'public_key':folder_url,\n",
    "            'path':file_url\n",
    "        }\n",
    "        url = download_url + urlencode(params)\n",
    "        r = requests.get(url) \n",
    "        download_link = json.loads(r.text)['href']\n",
    "        if Cbis_df is None:\n",
    "            Cbis_df = pd.read_csv(download_link, sep = ';', encoding='1251')\n",
    "        else:\n",
    "            dop_df = pd.read_csv(download_link, sep = ';', encoding='1251')\n",
    "            Cbis_df = pd.concat([Cbis_df, dop_df], ignore_index=True)\n"
   ]
  },
  {
   "cell_type": "code",
   "execution_count": 8,
   "metadata": {},
   "outputs": [
    {
     "name": "stdout",
     "output_type": "stream",
     "text": [
      "<class 'pandas.core.frame.DataFrame'>\n",
      "RangeIndex: 295737 entries, 0 to 295736\n",
      "Data columns (total 30 columns):\n",
      " #   Column                 Non-Null Count   Dtype  \n",
      "---  ------                 --------------   -----  \n",
      " 0   Дата                   295737 non-null  object \n",
      " 1   Номер                  295737 non-null  object \n",
      " 2   Сумма                  295737 non-null  object \n",
      " 3   Статус                 295737 non-null  object \n",
      " 4   Примечание             0 non-null       float64\n",
      " 5   Комментарий            134903 non-null  object \n",
      " 6   Контрагент             295737 non-null  object \n",
      " 7   ИНН/КПП                295737 non-null  object \n",
      " 8   Организация            295737 non-null  object \n",
      " 9   ИНН/КПП.1              295737 non-null  object \n",
      " 10  Тип документа          290231 non-null  object \n",
      " 11  Имя файла              295737 non-null  object \n",
      " 12  Дата.1                 206370 non-null  object \n",
      " 13  Номер.1                152476 non-null  object \n",
      " 14  Сумма.1                295737 non-null  object \n",
      " 15  Сумма НДС              295737 non-null  object \n",
      " 16  Ответственный          0 non-null       float64\n",
      " 17  Подразделение          295737 non-null  object \n",
      " 18  Код                    295737 non-null  int64  \n",
      " 19  Дата.2                 295737 non-null  object \n",
      " 20  Время                  295737 non-null  object \n",
      " 21  Тип пакета             295737 non-null  object \n",
      " 22  Идентификатор пакета   295737 non-null  object \n",
      " 23  Запущено в обработку   86377 non-null   object \n",
      " 24  Получено контрагентом  85256 non-null   object \n",
      " 25  Завершено              86330 non-null   object \n",
      " 26  Увеличение суммы       295737 non-null  object \n",
      " 27  НДС                    295737 non-null  object \n",
      " 28  Уменьшение суммы       295737 non-null  object \n",
      " 29  НДС.1                  295737 non-null  object \n",
      "dtypes: float64(2), int64(1), object(27)\n",
      "memory usage: 67.7+ MB\n"
     ]
    }
   ],
   "source": [
    "Cbis_df.info()"
   ]
  },
  {
   "cell_type": "code",
   "execution_count": 9,
   "metadata": {},
   "outputs": [
    {
     "data": {
      "text/html": [
       "<div>\n",
       "<style scoped>\n",
       "    .dataframe tbody tr th:only-of-type {\n",
       "        vertical-align: middle;\n",
       "    }\n",
       "\n",
       "    .dataframe tbody tr th {\n",
       "        vertical-align: top;\n",
       "    }\n",
       "\n",
       "    .dataframe thead th {\n",
       "        text-align: right;\n",
       "    }\n",
       "</style>\n",
       "<table border=\"1\" class=\"dataframe\">\n",
       "  <thead>\n",
       "    <tr style=\"text-align: right;\">\n",
       "      <th></th>\n",
       "      <th>Дата</th>\n",
       "      <th>Номер</th>\n",
       "      <th>Сумма</th>\n",
       "      <th>Статус</th>\n",
       "      <th>Примечание</th>\n",
       "      <th>Комментарий</th>\n",
       "      <th>Контрагент</th>\n",
       "      <th>ИНН/КПП</th>\n",
       "      <th>Организация</th>\n",
       "      <th>ИНН/КПП.1</th>\n",
       "      <th>...</th>\n",
       "      <th>Время</th>\n",
       "      <th>Тип пакета</th>\n",
       "      <th>Идентификатор пакета</th>\n",
       "      <th>Запущено в обработку</th>\n",
       "      <th>Получено контрагентом</th>\n",
       "      <th>Завершено</th>\n",
       "      <th>Увеличение суммы</th>\n",
       "      <th>НДС</th>\n",
       "      <th>Уменьшение суммы</th>\n",
       "      <th>НДС.1</th>\n",
       "    </tr>\n",
       "  </thead>\n",
       "  <tbody>\n",
       "    <tr>\n",
       "      <th>0</th>\n",
       "      <td>30.09.21</td>\n",
       "      <td>БРН00709545</td>\n",
       "      <td>4 056,46</td>\n",
       "      <td>Выполнение завершено успешно</td>\n",
       "      <td>NaN</td>\n",
       "      <td>БРН00709545 на сумму 4 056,46р.</td>\n",
       "      <td>Пульс Брянск, ООО</td>\n",
       "      <td>3255510243 / 325701001</td>\n",
       "      <td>ООО Рога и Копыта</td>\n",
       "      <td>4025419873 / 402501001</td>\n",
       "      <td>...</td>\n",
       "      <td>23:40:56</td>\n",
       "      <td>ДокОтгрВх</td>\n",
       "      <td>76210df0-7c48-4e6d-ad2b-6cbe2f3b7722</td>\n",
       "      <td>30.09.21 23:40</td>\n",
       "      <td>01.10.21 08:39</td>\n",
       "      <td>01.10.21 14:59</td>\n",
       "      <td>0,00</td>\n",
       "      <td>0,00</td>\n",
       "      <td>0,00</td>\n",
       "      <td>0,00</td>\n",
       "    </tr>\n",
       "    <tr>\n",
       "      <th>1</th>\n",
       "      <td>30.09.21</td>\n",
       "      <td>БРН00709545</td>\n",
       "      <td>4 056,46</td>\n",
       "      <td>Выполнение завершено успешно</td>\n",
       "      <td>NaN</td>\n",
       "      <td>БРН00709545 на сумму 4 056,46р.</td>\n",
       "      <td>Пульс Брянск, ООО</td>\n",
       "      <td>3255510243 / 325701001</td>\n",
       "      <td>ООО Рога и Копыта</td>\n",
       "      <td>4025419873 / 402501001</td>\n",
       "      <td>...</td>\n",
       "      <td>23:40:56</td>\n",
       "      <td>ДокОтгрВх</td>\n",
       "      <td>76210df0-7c48-4e6d-ad2b-6cbe2f3b7722</td>\n",
       "      <td>NaN</td>\n",
       "      <td>NaN</td>\n",
       "      <td>NaN</td>\n",
       "      <td>0,00</td>\n",
       "      <td>0,00</td>\n",
       "      <td>0,00</td>\n",
       "      <td>0,00</td>\n",
       "    </tr>\n",
       "    <tr>\n",
       "      <th>2</th>\n",
       "      <td>30.09.21</td>\n",
       "      <td>БРН00709545</td>\n",
       "      <td>0,00</td>\n",
       "      <td>Выполнение завершено успешно</td>\n",
       "      <td>NaN</td>\n",
       "      <td>БРН00709545 на сумму 4 056,46р.</td>\n",
       "      <td>Пульс Брянск, ООО</td>\n",
       "      <td>3255510243 / 325701001</td>\n",
       "      <td>ООО Рога и Копыта</td>\n",
       "      <td>4025419873 / 402501001</td>\n",
       "      <td>...</td>\n",
       "      <td>23:40:56</td>\n",
       "      <td>ДокОтгрВх</td>\n",
       "      <td>76210df0-7c48-4e6d-ad2b-6cbe2f3b7722</td>\n",
       "      <td>NaN</td>\n",
       "      <td>NaN</td>\n",
       "      <td>NaN</td>\n",
       "      <td>0,00</td>\n",
       "      <td>0,00</td>\n",
       "      <td>0,00</td>\n",
       "      <td>0,00</td>\n",
       "    </tr>\n",
       "    <tr>\n",
       "      <th>3</th>\n",
       "      <td>30.09.21</td>\n",
       "      <td>БРН00709520</td>\n",
       "      <td>54 705,65</td>\n",
       "      <td>Выполнение завершено успешно</td>\n",
       "      <td>NaN</td>\n",
       "      <td>БРН00709520 на сумму 54 705,65р.</td>\n",
       "      <td>Пульс Брянск, ООО</td>\n",
       "      <td>3255510243 / 325701001</td>\n",
       "      <td>ООО Рога и Копыта</td>\n",
       "      <td>4025419873 / 402501001</td>\n",
       "      <td>...</td>\n",
       "      <td>23:34:51</td>\n",
       "      <td>ДокОтгрВх</td>\n",
       "      <td>1cfdcbd4-a43b-4543-90b6-59d0e6095b94</td>\n",
       "      <td>30.09.21 23:34</td>\n",
       "      <td>01.10.21 08:39</td>\n",
       "      <td>01.10.21 14:59</td>\n",
       "      <td>0,00</td>\n",
       "      <td>0,00</td>\n",
       "      <td>0,00</td>\n",
       "      <td>0,00</td>\n",
       "    </tr>\n",
       "    <tr>\n",
       "      <th>4</th>\n",
       "      <td>30.09.21</td>\n",
       "      <td>БРН00709520</td>\n",
       "      <td>54 705,65</td>\n",
       "      <td>Выполнение завершено успешно</td>\n",
       "      <td>NaN</td>\n",
       "      <td>БРН00709520 на сумму 54 705,65р.</td>\n",
       "      <td>Пульс Брянск, ООО</td>\n",
       "      <td>3255510243 / 325701001</td>\n",
       "      <td>ООО Рога и Копыта</td>\n",
       "      <td>4025419873 / 402501001</td>\n",
       "      <td>...</td>\n",
       "      <td>23:34:51</td>\n",
       "      <td>ДокОтгрВх</td>\n",
       "      <td>1cfdcbd4-a43b-4543-90b6-59d0e6095b94</td>\n",
       "      <td>NaN</td>\n",
       "      <td>NaN</td>\n",
       "      <td>NaN</td>\n",
       "      <td>0,00</td>\n",
       "      <td>0,00</td>\n",
       "      <td>0,00</td>\n",
       "      <td>0,00</td>\n",
       "    </tr>\n",
       "  </tbody>\n",
       "</table>\n",
       "<p>5 rows × 30 columns</p>\n",
       "</div>"
      ],
      "text/plain": [
       "       Дата        Номер      Сумма                        Статус  Примечание  \\\n",
       "0  30.09.21  БРН00709545   4 056,46  Выполнение завершено успешно         NaN   \n",
       "1  30.09.21  БРН00709545   4 056,46  Выполнение завершено успешно         NaN   \n",
       "2  30.09.21  БРН00709545       0,00  Выполнение завершено успешно         NaN   \n",
       "3  30.09.21  БРН00709520  54 705,65  Выполнение завершено успешно         NaN   \n",
       "4  30.09.21  БРН00709520  54 705,65  Выполнение завершено успешно         NaN   \n",
       "\n",
       "                        Комментарий         Контрагент  \\\n",
       "0   БРН00709545 на сумму 4 056,46р.  Пульс Брянск, ООО   \n",
       "1   БРН00709545 на сумму 4 056,46р.  Пульс Брянск, ООО   \n",
       "2   БРН00709545 на сумму 4 056,46р.  Пульс Брянск, ООО   \n",
       "3  БРН00709520 на сумму 54 705,65р.  Пульс Брянск, ООО   \n",
       "4  БРН00709520 на сумму 54 705,65р.  Пульс Брянск, ООО   \n",
       "\n",
       "                  ИНН/КПП        Организация               ИНН/КПП.1  ...  \\\n",
       "0  3255510243 / 325701001  ООО Рога и Копыта  4025419873 / 402501001  ...   \n",
       "1  3255510243 / 325701001  ООО Рога и Копыта  4025419873 / 402501001  ...   \n",
       "2  3255510243 / 325701001  ООО Рога и Копыта  4025419873 / 402501001  ...   \n",
       "3  3255510243 / 325701001  ООО Рога и Копыта  4025419873 / 402501001  ...   \n",
       "4  3255510243 / 325701001  ООО Рога и Копыта  4025419873 / 402501001  ...   \n",
       "\n",
       "      Время Тип пакета                  Идентификатор пакета  \\\n",
       "0  23:40:56  ДокОтгрВх  76210df0-7c48-4e6d-ad2b-6cbe2f3b7722   \n",
       "1  23:40:56  ДокОтгрВх  76210df0-7c48-4e6d-ad2b-6cbe2f3b7722   \n",
       "2  23:40:56  ДокОтгрВх  76210df0-7c48-4e6d-ad2b-6cbe2f3b7722   \n",
       "3  23:34:51  ДокОтгрВх  1cfdcbd4-a43b-4543-90b6-59d0e6095b94   \n",
       "4  23:34:51  ДокОтгрВх  1cfdcbd4-a43b-4543-90b6-59d0e6095b94   \n",
       "\n",
       "  Запущено в обработку Получено контрагентом       Завершено  \\\n",
       "0       30.09.21 23:40        01.10.21 08:39  01.10.21 14:59   \n",
       "1                  NaN                   NaN             NaN   \n",
       "2                  NaN                   NaN             NaN   \n",
       "3       30.09.21 23:34        01.10.21 08:39  01.10.21 14:59   \n",
       "4                  NaN                   NaN             NaN   \n",
       "\n",
       "   Увеличение суммы   НДС  Уменьшение суммы НДС.1  \n",
       "0              0,00  0,00              0,00  0,00  \n",
       "1              0,00  0,00              0,00  0,00  \n",
       "2              0,00  0,00              0,00  0,00  \n",
       "3              0,00  0,00              0,00  0,00  \n",
       "4              0,00  0,00              0,00  0,00  \n",
       "\n",
       "[5 rows x 30 columns]"
      ]
     },
     "execution_count": 9,
     "metadata": {},
     "output_type": "execute_result"
    }
   ],
   "source": [
    "Cbis_df.head()"
   ]
  },
  {
   "cell_type": "code",
   "execution_count": 10,
   "metadata": {},
   "outputs": [],
   "source": [
    "Cbis_df.columns = Cbis_df.columns.str.replace(' ', '_')"
   ]
  },
  {
   "cell_type": "code",
   "execution_count": 11,
   "metadata": {},
   "outputs": [
    {
     "data": {
      "text/plain": [
       "Index(['Дата', 'Номер', 'Сумма', 'Статус', 'Примечание', 'Комментарий',\n",
       "       'Контрагент', 'ИНН/КПП', 'Организация', 'ИНН/КПП.1', 'Тип_документа',\n",
       "       'Имя_файла', 'Дата.1', 'Номер.1', 'Сумма.1', 'Сумма_НДС',\n",
       "       'Ответственный', 'Подразделение', 'Код', 'Дата.2', 'Время',\n",
       "       'Тип_пакета', 'Идентификатор_пакета', 'Запущено_в_обработку',\n",
       "       'Получено_контрагентом', 'Завершено', 'Увеличение_суммы', 'НДС',\n",
       "       'Уменьшение_суммы', 'НДС.1'],\n",
       "      dtype='object')"
      ]
     },
     "execution_count": 11,
     "metadata": {},
     "output_type": "execute_result"
    }
   ],
   "source": [
    "Cbis_df.columns"
   ]
  },
  {
   "cell_type": "code",
   "execution_count": 12,
   "metadata": {},
   "outputs": [],
   "source": [
    "float_columns = ['Сумма', 'Сумма.1', 'Сумма_НДС', 'НДС', 'Уменьшение_суммы', 'НДС.1']"
   ]
  },
  {
   "cell_type": "code",
   "execution_count": 13,
   "metadata": {},
   "outputs": [],
   "source": [
    "for column in float_columns:\n",
    "    Cbis_df[column] = Cbis_df[column].str.replace(' ', '').str.replace(',', '.').astype('float')"
   ]
  },
  {
   "cell_type": "markdown",
   "metadata": {},
   "source": [
    "### Получение данных с аптек"
   ]
  },
  {
   "cell_type": "code",
   "execution_count": 14,
   "metadata": {},
   "outputs": [],
   "source": [
    "download_url = 'https://cloud-api.yandex.net/v1/disk/public/resources/download?'\n",
    "get_url = 'https://cloud-api.yandex.net/v1/disk/public/resources?'\n",
    "apteks_url = 'https://disk.yandex.ru/d/m9MtFWt56fDW7g'\n",
    "path_to_folder = '/csv/correct'"
   ]
  },
  {
   "cell_type": "code",
   "execution_count": 15,
   "metadata": {},
   "outputs": [
    {
     "data": {
      "text/plain": [
       "'https://cloud-api.yandex.net/v1/disk/public/resources?public_key=https%3A%2F%2Fdisk.yandex.ru%2Fd%2Fm9MtFWt56fDW7g&path=%2Fcsv%2Fcorrect'"
      ]
     },
     "execution_count": 15,
     "metadata": {},
     "output_type": "execute_result"
    }
   ],
   "source": [
    "apteka_url_get = get_url + urlencode({'public_key':apteks_url, 'path':path_to_folder}, quote_via = quote)\n",
    "apteka_url_get"
   ]
  },
  {
   "cell_type": "code",
   "execution_count": 16,
   "metadata": {},
   "outputs": [],
   "source": [
    "apt_r_get = requests.get(apteka_url_get)\n",
    "apt_files = json.loads(apt_r_get.text)['_embedded']['items']"
   ]
  },
  {
   "cell_type": "code",
   "execution_count": 17,
   "metadata": {},
   "outputs": [],
   "source": [
    "need_doc_type = [\"СчФктр\", \"УпдДоп\", \"УпдСчфДоп\", \"ЭДОНакл\"]"
   ]
  },
  {
   "cell_type": "code",
   "execution_count": 18,
   "metadata": {},
   "outputs": [],
   "source": [
    "filtered_cbis = Cbis_df[Cbis_df['Тип_документа'].isin(need_doc_type)]"
   ]
  },
  {
   "cell_type": "code",
   "execution_count": 19,
   "metadata": {},
   "outputs": [
    {
     "data": {
      "text/plain": [
       "'Результат/2024-11-05/'"
      ]
     },
     "execution_count": 19,
     "metadata": {},
     "output_type": "execute_result"
    }
   ],
   "source": [
    "file_path_pattern = f'Результат/{date.today()}/'\n",
    "file_path_pattern"
   ]
  },
  {
   "cell_type": "code",
   "execution_count": 20,
   "metadata": {},
   "outputs": [],
   "source": [
    "if not os.path.exists(file_path_pattern):\n",
    "    os.makedirs(file_path_pattern)"
   ]
  },
  {
   "cell_type": "code",
   "execution_count": 21,
   "metadata": {},
   "outputs": [],
   "source": [
    "df_columns = ['№ п/п', 'Штрих-код партии', 'Наименование товара', 'Поставщик',\n",
    "'Дата приходного документа', 'Номер приходного документа',\n",
    "'Дата накладной', 'Номер накладной', 'Номер счет-фактуры',\n",
    "'Сумма счет-фактуры', 'Кол-во',\n",
    "'Сумма в закупочных ценах без НДС', 'Ставка НДС поставщика',\n",
    "'Сумма НДС', 'Сумма в закупочных ценах с НДС', 'Дата счет-фактуры', 'Сравнение дат']"
   ]
  },
  {
   "cell_type": "code",
   "execution_count": 23,
   "metadata": {},
   "outputs": [
    {
     "name": "stdout",
     "output_type": "stream",
     "text": [
      "366.csv Обработан!\n",
      "А123.csv Обработан!\n"
     ]
    }
   ],
   "source": [
    "for file in apt_files:\n",
    "    if file['name'].endswith('.csv'):\n",
    "        file_url = file['path']\n",
    "        params = {\n",
    "            'public_key':apteks_url,\n",
    "            'path': file_url\n",
    "        }\n",
    "        url = download_url + urlencode(params)\n",
    "        r = requests.get(url) \n",
    "        download_link = json.loads(r.text)['href']\n",
    "        df = pd.read_csv(download_link, sep = ';', encoding='1251')\n",
    "        \n",
    "        df['Номер накладной'] = df['Номер накладной'].astype(str)\n",
    "        df[\"Номер счет-фактуры\"] = ''\n",
    "        df['Сумма счет-фактуры'] = pd.Series(dtype = 'float')\n",
    "        df['Дата счет-фактуры'] = ''\n",
    "        df['Сравнение дат'] = ''\n",
    "        \n",
    "        for i, row in df.iterrows():\n",
    "            waybill = row['Номер накладной']\n",
    "            if 'ЕАПТЕКА' in row['Поставщик']:\n",
    "                waybill +='/15'\n",
    "            records = filtered_cbis[filtered_cbis['Номер'] == waybill]\n",
    "            if records.empty:\n",
    "                continue\n",
    "            numb, summ, dt = records[['Номер', 'Сумма', 'Дата']].iloc[0]\n",
    "            dt = datetime.strptime(dt, '%d.%m.%y').strftime('%d.%m.%Y')\n",
    "            df.at[i, \"Номер счет-фактуры\"] = numb\n",
    "            df.at[i, 'Сумма счет-фактуры'] = summ\n",
    "            df.at[i, 'Дата счет-фактуры'] = dt\n",
    "            if df.at[i, 'Дата накладной'] != dt:\n",
    "                df.at[i, 'Сравнение дат']= 'Не совпадает!'\n",
    "            \n",
    "        df = df[df_columns]\n",
    "        path = file_path_pattern + file['name'][:-4] + ' - результат.xlsx'\n",
    "        df.to_excel(path, index = False, float_format=\"%.2f\")\n",
    "        print(f'{file[\"name\"]} Обработан!')\n"
   ]
  },
  {
   "cell_type": "code",
   "execution_count": null,
   "metadata": {},
   "outputs": [],
   "source": []
  }
 ],
 "metadata": {
  "kernelspec": {
   "display_name": "base",
   "language": "python",
   "name": "python3"
  },
  "language_info": {
   "codemirror_mode": {
    "name": "ipython",
    "version": 3
   },
   "file_extension": ".py",
   "mimetype": "text/x-python",
   "name": "python",
   "nbconvert_exporter": "python",
   "pygments_lexer": "ipython3",
   "version": "3.10.9"
  },
  "orig_nbformat": 4
 },
 "nbformat": 4,
 "nbformat_minor": 2
}
